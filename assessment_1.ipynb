{
 "cells": [
  {
   "cell_type": "code",
   "execution_count": 3,
   "id": "4042c8c2-9182-462b-9436-53f0774d729c",
   "metadata": {},
   "outputs": [
    {
     "name": "stdout",
     "output_type": "stream",
     "text": [
      "Perceptron - Accuracy: 0.7575757575757576,Precision: 0.6666666666666666,Recall: 0.6,F1-Score: 0.631578947368421\n",
      "Logistic Regression - Accuracy:0.7359307359307359, Precision:0.6172839506172839, Recall:0.625, F1-Score: 0.6211180124223602\n"
     ]
    }
   ],
   "source": [
    "import pandas as pd\n",
    "\n",
    "from sklearn.model_selection import train_test_split\n",
    "from sklearn.preprocessing import StandardScaler\n",
    "from sklearn.linear_model import Perceptron, LogisticRegression\n",
    "from sklearn.metrics import accuracy_score, precision_score, recall_score, f1_score\n",
    "# Load dataset\n",
    "df = pd.read_csv(\"diabetes.csv\")\n",
    "# Preprocess data\n",
    "x = df.iloc[:, :-1] # Features\n",
    "y = df.iloc[:, -1] # Target\n",
    "scaler = StandardScaler()\n",
    "x_scaled = scaler.fit_transform(x)\n",
    "# Split data\n",
    "x_train, x_test, y_train, y_test = train_test_split(x_scaled, y, test_size=0.3, random_state=42)\n",
    "# Train Perceptron\n",
    "perceptron = Perceptron(max_iter=1000,\n",
    "eta0=0.01, tol=1e-3)\n",
    "perceptron.fit(x_train, y_train)\n",
    "y_pred = perceptron.predict(x_test)\n",
    "# Evaluate Perceptron\n",
    "accuracy = accuracy_score(y_test, y_pred)\n",
    "precision = precision_score(y_test, y_pred)\n",
    "recall = recall_score(y_test, y_pred)\n",
    "f1 = f1_score(y_test, y_pred)\n",
    "print(f'Perceptron - Accuracy: {accuracy},Precision: {precision},Recall: {recall},F1-Score: {f1}')\n",
    "# Train Logistic Regression for comparison\n",
    "log_reg = LogisticRegression()\n",
    "log_reg.fit(x_train, y_train)\n",
    "y_pred_logreg = log_reg.predict(x_test)\n",
    "# Evaluate Logistic Regression\n",
    "accuracy_logreg = accuracy_score(y_test, y_pred_logreg)\n",
    "precision_logreg = precision_score(y_test, y_pred_logreg)\n",
    "recall_logreg = recall_score(y_test, y_pred_logreg)\n",
    "f1_logreg = f1_score(y_test, y_pred_logreg)\n",
    "print(f'Logistic Regression - Accuracy:{accuracy_logreg}, Precision:{precision_logreg}, Recall:{recall_logreg}, F1-Score: {f1_logreg}')"
   ]
  }
 ],
 "metadata": {
  "kernelspec": {
   "display_name": "Python 3 (ipykernel)",
   "language": "python",
   "name": "python3"
  },
  "language_info": {
   "codemirror_mode": {
    "name": "ipython",
    "version": 3
   },
   "file_extension": ".py",
   "mimetype": "text/x-python",
   "name": "python",
   "nbconvert_exporter": "python",
   "pygments_lexer": "ipython3",
   "version": "3.11.7"
  }
 },
 "nbformat": 4,
 "nbformat_minor": 5
}
